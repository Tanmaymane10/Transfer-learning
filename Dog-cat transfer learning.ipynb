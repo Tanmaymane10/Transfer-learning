{
 "cells": [
  {
   "cell_type": "code",
   "execution_count": 1,
   "metadata": {
    "id": "03dgV2I6kJjZ"
   },
   "outputs": [],
   "source": [
    "!mkdir -p ~/.kaggle\n",
    "!cp kaggle.json ~/.kaggle/"
   ]
  },
  {
   "cell_type": "code",
   "execution_count": 2,
   "metadata": {
    "colab": {
     "base_uri": "https://localhost:8080/"
    },
    "id": "OjTDFL1QkpVQ",
    "outputId": "b07d4867-ea4c-4337-bbbe-f6bf806250b7"
   },
   "outputs": [
    {
     "name": "stdout",
     "output_type": "stream",
     "text": [
      "Warning: Your Kaggle API key is readable by other users on this system! To fix this, you can run 'chmod 600 /root/.kaggle/kaggle.json'\n",
      "Dataset URL: https://www.kaggle.com/datasets/tongpython/cat-and-dog\n",
      "License(s): CC0-1.0\n",
      "Downloading cat-and-dog.zip to /content\n",
      " 94% 204M/218M [00:01<00:00, 186MB/s]\n",
      "100% 218M/218M [00:01<00:00, 179MB/s]\n"
     ]
    }
   ],
   "source": [
    "!kaggle datasets download -d tongpython/cat-and-dog"
   ]
  },
  {
   "cell_type": "code",
   "execution_count": 5,
   "metadata": {
    "id": "0406CGibkvqt"
   },
   "outputs": [],
   "source": [
    "import zipfile\n",
    "zip_ref = zipfile.ZipFile('/content/cat-and-dog.zip', 'r')\n",
    "zip_ref.extractall('data')\n",
    "zip_ref.close()"
   ]
  },
  {
   "cell_type": "code",
   "execution_count": 4,
   "metadata": {
    "id": "DNwJ2GVEk7m9"
   },
   "outputs": [],
   "source": [
    "#importing all the necessary library\n",
    "import tensorflow as tf\n",
    "from tensorflow import keras\n",
    "from keras import Sequential\n",
    "from keras.layers import Dense, Flatten, MaxPooling2D, Conv2D, BatchNormalization, Dropout\n",
    "from keras.applications.vgg16 import VGG16\n",
    "from keras import regularizers"
   ]
  },
  {
   "cell_type": "code",
   "execution_count": 6,
   "metadata": {
    "colab": {
     "base_uri": "https://localhost:8080/"
    },
    "id": "IwHm0a0ok_Sd",
    "outputId": "4bd02b6c-1e39-46fe-8907-f13f60e805be"
   },
   "outputs": [
    {
     "name": "stdout",
     "output_type": "stream",
     "text": [
      "Found 2023 files belonging to 2 classes.\n",
      "Found 2023 files belonging to 2 classes.\n"
     ]
    }
   ],
   "source": [
    "#defining the train and validation data\n",
    "train_ds = keras.utils.image_dataset_from_directory(\n",
    "    directory='/content/data/test_set/test_set',\n",
    "    labels='inferred',\n",
    "    label_mode='int',\n",
    "    batch_size=32,\n",
    "    image_size=(224, 224)\n",
    ")\n",
    "\n",
    "val_ds = keras.utils.image_dataset_from_directory(\n",
    "    directory='/content/data/test_set/test_set',\n",
    "    labels='inferred',\n",
    "    label_mode='int',\n",
    "    batch_size=32,\n",
    "    image_size=(224, 224)\n",
    ")"
   ]
  },
  {
   "cell_type": "code",
   "execution_count": 7,
   "metadata": {
    "id": "9LUOEbJBltS2"
   },
   "outputs": [],
   "source": [
    "#normalizing the data\n",
    "def normalize(image, label):\n",
    "  image = tf.cast(image, tf.float32)/255\n",
    "  return image, label\n",
    "\n",
    "train_ds = train_ds.map(normalize)\n",
    "val_ds = val_ds.map(normalize)"
   ]
  },
  {
   "cell_type": "code",
   "execution_count": 8,
   "metadata": {
    "id": "kn9RPx1hl1dh"
   },
   "outputs": [],
   "source": [
    "#this code help us to store the training performance in cache so that model has not to wait very long to again perform the test on another epochs\n",
    "train_ds = train_ds.cache().prefetch(buffer_size=tf.data.AUTOTUNE)\n",
    "val_ds = val_ds.cache().prefetch(buffer_size=tf.data.AUTOTUNE)"
   ]
  },
  {
   "cell_type": "code",
   "execution_count": 9,
   "metadata": {
    "colab": {
     "base_uri": "https://localhost:8080/"
    },
    "id": "46-s_0R5l3aW",
    "outputId": "c45cabd9-9995-41d5-d8fb-223f75c30f4a"
   },
   "outputs": [
    {
     "name": "stdout",
     "output_type": "stream",
     "text": [
      "Downloading data from https://storage.googleapis.com/tensorflow/keras-applications/vgg16/vgg16_weights_tf_dim_ordering_tf_kernels_notop.h5\n",
      "58889256/58889256 [==============================] - 0s 0us/step\n"
     ]
    }
   ],
   "source": [
    "#introducing vgg16\n",
    "conv_base = VGG16(\n",
    "    weights='imagenet',\n",
    "    include_top = False,\n",
    "    input_shape=(224,224,3)\n",
    ")"
   ]
  },
  {
   "cell_type": "code",
   "execution_count": 10,
   "metadata": {
    "id": "Ouk91j2Gl4yV"
   },
   "outputs": [],
   "source": [
    "#freezing the conv layer\n",
    "conv_base.trainable = False"
   ]
  },
  {
   "cell_type": "code",
   "execution_count": 11,
   "metadata": {
    "colab": {
     "base_uri": "https://localhost:8080/"
    },
    "id": "zSC9LimTl6t2",
    "outputId": "c889bca1-00e3-4fa5-82df-838769dea1f4"
   },
   "outputs": [
    {
     "name": "stdout",
     "output_type": "stream",
     "text": [
      "Model: \"vgg16\"\n",
      "_________________________________________________________________\n",
      " Layer (type)                Output Shape              Param #   \n",
      "=================================================================\n",
      " input_1 (InputLayer)        [(None, 224, 224, 3)]     0         \n",
      "                                                                 \n",
      " block1_conv1 (Conv2D)       (None, 224, 224, 64)      1792      \n",
      "                                                                 \n",
      " block1_conv2 (Conv2D)       (None, 224, 224, 64)      36928     \n",
      "                                                                 \n",
      " block1_pool (MaxPooling2D)  (None, 112, 112, 64)      0         \n",
      "                                                                 \n",
      " block2_conv1 (Conv2D)       (None, 112, 112, 128)     73856     \n",
      "                                                                 \n",
      " block2_conv2 (Conv2D)       (None, 112, 112, 128)     147584    \n",
      "                                                                 \n",
      " block2_pool (MaxPooling2D)  (None, 56, 56, 128)       0         \n",
      "                                                                 \n",
      " block3_conv1 (Conv2D)       (None, 56, 56, 256)       295168    \n",
      "                                                                 \n",
      " block3_conv2 (Conv2D)       (None, 56, 56, 256)       590080    \n",
      "                                                                 \n",
      " block3_conv3 (Conv2D)       (None, 56, 56, 256)       590080    \n",
      "                                                                 \n",
      " block3_pool (MaxPooling2D)  (None, 28, 28, 256)       0         \n",
      "                                                                 \n",
      " block4_conv1 (Conv2D)       (None, 28, 28, 512)       1180160   \n",
      "                                                                 \n",
      " block4_conv2 (Conv2D)       (None, 28, 28, 512)       2359808   \n",
      "                                                                 \n",
      " block4_conv3 (Conv2D)       (None, 28, 28, 512)       2359808   \n",
      "                                                                 \n",
      " block4_pool (MaxPooling2D)  (None, 14, 14, 512)       0         \n",
      "                                                                 \n",
      " block5_conv1 (Conv2D)       (None, 14, 14, 512)       2359808   \n",
      "                                                                 \n",
      " block5_conv2 (Conv2D)       (None, 14, 14, 512)       2359808   \n",
      "                                                                 \n",
      " block5_conv3 (Conv2D)       (None, 14, 14, 512)       2359808   \n",
      "                                                                 \n",
      " block5_pool (MaxPooling2D)  (None, 7, 7, 512)         0         \n",
      "                                                                 \n",
      "=================================================================\n",
      "Total params: 14714688 (56.13 MB)\n",
      "Trainable params: 0 (0.00 Byte)\n",
      "Non-trainable params: 14714688 (56.13 MB)\n",
      "_________________________________________________________________\n"
     ]
    }
   ],
   "source": [
    "conv_base.summary()"
   ]
  },
  {
   "cell_type": "code",
   "execution_count": 12,
   "metadata": {
    "id": "ofIxpU2Jl8Fe"
   },
   "outputs": [],
   "source": [
    "#fully connected layer architecture\n",
    "model = Sequential()\n",
    "model.add(conv_base)\n",
    "model.add(Flatten())\n",
    "\n",
    "model.add(Dense(256, activation='relu', kernel_regularizer=regularizers.l2(0.001)))\n",
    "model.add(Dropout(0.4))\n",
    "\n",
    "model.add(Dense(128, activation='relu', kernel_regularizer=regularizers.l2(0.001)))\n",
    "model.add(Dropout(0.4))\n",
    "\n",
    "model.add(Dense(1, activation='sigmoid'))"
   ]
  },
  {
   "cell_type": "code",
   "execution_count": 13,
   "metadata": {
    "colab": {
     "base_uri": "https://localhost:8080/"
    },
    "id": "Ky6gnJ8ymA-U",
    "outputId": "5a94ffd9-13b2-4e85-e1e0-939a6f57b4d2"
   },
   "outputs": [
    {
     "name": "stdout",
     "output_type": "stream",
     "text": [
      "Model: \"sequential\"\n",
      "_________________________________________________________________\n",
      " Layer (type)                Output Shape              Param #   \n",
      "=================================================================\n",
      " vgg16 (Functional)          (None, 7, 7, 512)         14714688  \n",
      "                                                                 \n",
      " flatten (Flatten)           (None, 25088)             0         \n",
      "                                                                 \n",
      " dense (Dense)               (None, 256)               6422784   \n",
      "                                                                 \n",
      " dropout (Dropout)           (None, 256)               0         \n",
      "                                                                 \n",
      " dense_1 (Dense)             (None, 128)               32896     \n",
      "                                                                 \n",
      " dropout_1 (Dropout)         (None, 128)               0         \n",
      "                                                                 \n",
      " dense_2 (Dense)             (None, 1)                 129       \n",
      "                                                                 \n",
      "=================================================================\n",
      "Total params: 21170497 (80.76 MB)\n",
      "Trainable params: 6455809 (24.63 MB)\n",
      "Non-trainable params: 14714688 (56.13 MB)\n",
      "_________________________________________________________________\n"
     ]
    }
   ],
   "source": [
    "model.summary()"
   ]
  },
  {
   "cell_type": "code",
   "execution_count": 14,
   "metadata": {
    "id": "lEm0RNAbmCkF"
   },
   "outputs": [],
   "source": [
    "model.compile(optimizer='adam', loss='binary_crossentropy', metrics=['accuracy'])"
   ]
  },
  {
   "cell_type": "code",
   "execution_count": 15,
   "metadata": {
    "id": "WLQCpEo5mEq6"
   },
   "outputs": [],
   "source": [
    "from keras.callbacks import EarlyStopping"
   ]
  },
  {
   "cell_type": "code",
   "execution_count": 16,
   "metadata": {
    "id": "iNpoDHxemGw2"
   },
   "outputs": [],
   "source": [
    "early_stopping = EarlyStopping(\n",
    "    monitor='val_loss',\n",
    "    patience=5,\n",
    "    mode='min',\n",
    "    restore_best_weights=True\n",
    ")"
   ]
  },
  {
   "cell_type": "code",
   "execution_count": 17,
   "metadata": {
    "colab": {
     "base_uri": "https://localhost:8080/"
    },
    "id": "lL6EMHnlmHxs",
    "outputId": "22e607fc-63c8-481e-eb94-9530234184c6"
   },
   "outputs": [
    {
     "name": "stdout",
     "output_type": "stream",
     "text": [
      "Epoch 1/10\n",
      "64/64 [==============================] - 76s 1s/step - loss: 1.1377 - accuracy: 0.7281 - val_loss: 0.5855 - val_accuracy: 0.9155\n",
      "Epoch 2/10\n",
      "64/64 [==============================] - 75s 1s/step - loss: 0.5993 - accuracy: 0.8636 - val_loss: 0.4335 - val_accuracy: 0.9451\n",
      "Epoch 3/10\n",
      "64/64 [==============================] - 75s 1s/step - loss: 0.4584 - accuracy: 0.9051 - val_loss: 0.3244 - val_accuracy: 0.9664\n",
      "Epoch 4/10\n",
      "64/64 [==============================] - 75s 1s/step - loss: 0.3832 - accuracy: 0.9268 - val_loss: 0.2861 - val_accuracy: 0.9679\n",
      "Epoch 5/10\n",
      "64/64 [==============================] - 75s 1s/step - loss: 0.3524 - accuracy: 0.9303 - val_loss: 0.2544 - val_accuracy: 0.9847\n",
      "Epoch 6/10\n",
      "64/64 [==============================] - 76s 1s/step - loss: 0.3488 - accuracy: 0.9189 - val_loss: 0.3735 - val_accuracy: 0.9041\n",
      "Epoch 7/10\n",
      "64/64 [==============================] - 76s 1s/step - loss: 0.3638 - accuracy: 0.9259 - val_loss: 0.2167 - val_accuracy: 0.9797\n",
      "Epoch 8/10\n",
      "64/64 [==============================] - 75s 1s/step - loss: 0.3668 - accuracy: 0.9011 - val_loss: 0.2739 - val_accuracy: 0.9511\n",
      "Epoch 9/10\n",
      "64/64 [==============================] - 76s 1s/step - loss: 0.3662 - accuracy: 0.9145 - val_loss: 0.2926 - val_accuracy: 0.9372\n",
      "Epoch 10/10\n",
      "64/64 [==============================] - 75s 1s/step - loss: 0.3598 - accuracy: 0.8878 - val_loss: 0.2145 - val_accuracy: 0.9787\n"
     ]
    }
   ],
   "source": [
    "history = model.fit(train_ds, validation_data=val_ds, epochs=10, callbacks=[early_stopping])"
   ]
  },
  {
   "cell_type": "code",
   "execution_count": 18,
   "metadata": {
    "colab": {
     "base_uri": "https://localhost:8080/"
    },
    "id": "UToVvCSBmL_v",
    "outputId": "1a797c60-9086-478d-9ce2-7d5cf4ff0a68"
   },
   "outputs": [
    {
     "name": "stdout",
     "output_type": "stream",
     "text": [
      "64/64 [==============================] - 37s 585ms/step - loss: 0.2145 - accuracy: 0.9787\n",
      "Test Loss: 0.2145111858844757\n",
      "Test Accuracy: 0.9787444472312927\n"
     ]
    }
   ],
   "source": [
    "test_loss, test_accuracy = model.evaluate(val_ds)\n",
    "print(f\"Test Loss: {test_loss}\")\n",
    "print(f\"Test Accuracy: {test_accuracy}\")"
   ]
  },
  {
   "cell_type": "code",
   "execution_count": 20,
   "metadata": {
    "colab": {
     "base_uri": "https://localhost:8080/"
    },
    "id": "UAO2rXdVpvLh",
    "outputId": "3643e518-74f1-4126-9ca5-e8f38c1699fb"
   },
   "outputs": [
    {
     "name": "stdout",
     "output_type": "stream",
     "text": [
      "64/64 [==============================] - 37s 572ms/step\n"
     ]
    }
   ],
   "source": [
    "import numpy as np\n",
    "from sklearn.metrics import classification_report\n",
    "\n",
    "# Making predictions on the test dataset\n",
    "y_pred_probs = model.predict(val_ds)\n",
    "\n",
    "y_pred = np.where(y_pred_probs > 0.5, 1, 0)\n",
    "\n",
    "y_true = np.concatenate([y for x, y in val_ds], axis=0)"
   ]
  },
  {
   "cell_type": "code",
   "execution_count": 21,
   "metadata": {
    "colab": {
     "base_uri": "https://localhost:8080/"
    },
    "id": "o902M-I_qGtF",
    "outputId": "72b6cccf-1279-46ce-dedc-bcda4f4acb61"
   },
   "outputs": [
    {
     "name": "stdout",
     "output_type": "stream",
     "text": [
      "              precision    recall  f1-score   support\n",
      "\n",
      "     Class 0       0.97      0.99      0.98      1011\n",
      "     Class 1       0.99      0.97      0.98      1012\n",
      "\n",
      "    accuracy                           0.98      2023\n",
      "   macro avg       0.98      0.98      0.98      2023\n",
      "weighted avg       0.98      0.98      0.98      2023\n",
      "\n"
     ]
    }
   ],
   "source": [
    "#classification report\n",
    "report = classification_report(y_true, y_pred, target_names=['Class 0', 'Class 1'])\n",
    "print(report)"
   ]
  },
  {
   "cell_type": "code",
   "execution_count": 22,
   "metadata": {
    "colab": {
     "base_uri": "https://localhost:8080/",
     "height": 442
    },
    "id": "m0_DfXEjqleE",
    "outputId": "7e61ffec-f4fc-4c27-859e-d5dc465ac342"
   },
   "outputs": [
    {
     "data": {
      "image/png": "[encoded data removed]",
      "text/plain": [
       "<Figure size 1200x600 with 2 Axes>"
      ]
     },
     "metadata": {},
     "output_type": "display_data"
    }
   ],
   "source": [
    "import matplotlib.pyplot as plt\n",
    "\n",
    "#training history data\n",
    "history_dict = history.history\n",
    "\n",
    "train_loss = history_dict['loss']\n",
    "val_loss = history_dict['val_loss']\n",
    "train_acc = history_dict['accuracy']\n",
    "val_acc = history_dict['val_accuracy']\n",
    "\n",
    "epochs = range(1, len(train_loss) + 1)\n",
    "\n",
    "# Plotting Training and Validation Loss\n",
    "plt.figure(figsize=(12, 6))\n",
    "plt.subplot(1, 2, 1)\n",
    "plt.plot(epochs, train_loss, 'b', label='Training Loss')\n",
    "plt.plot(epochs, val_loss, 'r', label='Validation Loss')\n",
    "plt.title('Training and Validation Loss')\n",
    "plt.xlabel('Epochs')\n",
    "plt.ylabel('Loss')\n",
    "plt.legend()\n",
    "\n",
    "# Plotting Training and Validation Accuracy\n",
    "plt.subplot(1, 2, 2)\n",
    "plt.plot(epochs, train_acc, 'b', label='Training Accuracy')\n",
    "plt.plot(epochs, val_acc, 'r', label='Validation Accuracy')\n",
    "plt.title('Training and Validation Accuracy')\n",
    "plt.xlabel('Epochs')\n",
    "plt.ylabel('Accuracy')\n",
    "plt.legend()\n",
    "\n",
    "plt.tight_layout()\n",
    "plt.show()\n"
   ]
  },
  {
   "cell_type": "code",
   "execution_count": 23,
   "metadata": {
    "id": "J0OFOEfbq03C"
   },
   "outputs": [],
   "source": [
    "from tensorflow.keras.preprocessing import image\n",
    "import numpy as np\n",
    "\n",
    "img_path = '/dogimg.jpg'\n",
    "img = image.load_img(img_path, target_size=(224, 224))  #size matches model's input\n",
    "\n",
    "# Converting the image to a numpy array\n",
    "img_array = image.img_to_array(img)\n",
    "img_array = np.expand_dims(img_array, axis=0)\n",
    "\n",
    "#normalizing\n",
    "img_array /= 255.0"
   ]
  },
  {
   "cell_type": "code",
   "execution_count": 24,
   "metadata": {
    "colab": {
     "base_uri": "https://localhost:8080/"
    },
    "id": "Ge79rt3LsARo",
    "outputId": "64d7d5fc-4421-4119-9445-baf6d79e449a"
   },
   "outputs": [
    {
     "name": "stdout",
     "output_type": "stream",
     "text": [
      "1/1 [==============================] - 0s 202ms/step\n",
      "It's a dog!\n"
     ]
    }
   ],
   "source": [
    "# Predicting the class (1 for dog, 0 for cat)\n",
    "predictions = model.predict(img_array)\n",
    "if predictions[0] > 0.5:\n",
    "    print(\"It's a dog!\")\n",
    "else:\n",
    "    print(\"It's a cat!\")"
   ]
  },
  {
   "cell_type": "code",
   "execution_count": 25,
   "metadata": {
    "id": "-cHrxwejsBsQ"
   },
   "outputs": [],
   "source": [
    "img_path = '/catimg.jpg'\n",
    "img = image.load_img(img_path, target_size=(224, 224))\n",
    "\n",
    "img_array = image.img_to_array(img)\n",
    "\n",
    "img_array = np.expand_dims(img_array, axis=0)\n",
    "\n",
    "img_array /= 255.0"
   ]
  },
  {
   "cell_type": "code",
   "execution_count": 27,
   "metadata": {
    "colab": {
     "base_uri": "https://localhost:8080/"
    },
    "id": "wTq9egt1sbkZ",
    "outputId": "d501e163-c77a-4471-a8a8-230c0280dbee"
   },
   "outputs": [
    {
     "name": "stdout",
     "output_type": "stream",
     "text": [
      "1/1 [==============================] - 0s 78ms/step\n",
      "It's a cat!\n"
     ]
    }
   ],
   "source": [
    "\n",
    "prediction = model.predict(img_array)\n",
    "\n",
    "if prediction[0] > 0.5:\n",
    "    print(\"It's a dog!\")\n",
    "else:\n",
    "    print(\"It's a cat!\")"
   ]
  },
  {
   "cell_type": "code",
   "execution_count": 29,
   "metadata": {
    "id": "vpQJ3LVdsg4F"
   },
   "outputs": [],
   "source": [
    "img_path1 = '/cati.jpg'\n",
    "img1 = image.load_img(img_path1, target_size=(224, 224))\n",
    "\n",
    "img_array1 = image.img_to_array(img1)\n",
    "\n",
    "img_array1 = np.expand_dims(img_array1, axis=0)\n",
    "\n",
    "img_array1 /= 255.0"
   ]
  },
  {
   "cell_type": "code",
   "execution_count": 30,
   "metadata": {
    "colab": {
     "base_uri": "https://localhost:8080/"
    },
    "id": "wSZxKFA0uzU5",
    "outputId": "8afffac6-d1c1-46f8-f56a-f120af4f2b2d"
   },
   "outputs": [
    {
     "name": "stdout",
     "output_type": "stream",
     "text": [
      "1/1 [==============================] - 0s 76ms/step\n",
      "It's a cat!\n"
     ]
    }
   ],
   "source": [
    "\n",
    "prediction1 = model.predict(img_array1)\n",
    "\n",
    "if prediction1[0] > 0.5:\n",
    "    print(\"It's a dog!\")\n",
    "else:\n",
    "    print(\"It's a cat!\")"
   ]
  },
  {
   "cell_type": "code",
   "execution_count": 31,
   "metadata": {
    "colab": {
     "base_uri": "https://localhost:8080/"
    },
    "id": "sAmJobFnu_Pv",
    "outputId": "de61c600-2a14-4539-e78a-3219e1d9af6f"
   },
   "outputs": [
    {
     "data": {
      "text/plain": [
       "array([[1.192832e-08]], dtype=float32)"
      ]
     },
     "execution_count": 31,
     "metadata": {},
     "output_type": "execute_result"
    }
   ],
   "source": [
    "prediction1"
   ]
  },
  {
   "cell_type": "code",
   "execution_count": null,
   "metadata": {
    "id": "R2V0HEgmvCOl"
   },
   "outputs": [],
   "source": []
  },
  {
   "cell_type": "markdown",
   "metadata": {
    "id": "ZN0i0wemxeKa"
   },
   "source": [
    "## The final accuracy of this model is given above in a confusion matric where the overall accuracy of a model is 0.98 and precision, recall and f1-score is also 0.97, 0.99 and 0.98"
   ]
  },
  {
   "cell_type": "markdown",
   "metadata": {
    "id": "kfmF0k3yx9ox"
   },
   "source": [
    "## first of all i preporcessed the data then spiltted it to train and validation then imported vgg16 for transfer learning then i removed the flatten layer from vgg16 and then i freezed the vgg16 convolution layer from training because it is already trained by professionals so there's no need to train it again. then i defined the full layer architecture by myself where i used relu as an activation function and l2 kernel regularization to prevent model from getting overfit. and then i performed the model training as you can see the model is slightly underfitting but it is working very well on unseen data as i have performed model test where it is predicting very well not once misclasiification has been done so I guess model is performing very well."
   ]
  },
  {
   "cell_type": "code",
   "execution_count": null,
   "metadata": {
    "id": "UlEPwHEIx5Dz"
   },
   "outputs": [],
   "source": []
  }
 ],
 "metadata": {
  "accelerator": "TPU",
  "colab": {
   "gpuType": "V28",
   "provenance": []
  },
  "kernelspec": {
   "display_name": "Python 3 (ipykernel)",
   "language": "python",
   "name": "python3"
  },
  "language_info": {
   "codemirror_mode": {
    "name": "ipython",
    "version": 3
   },
   "file_extension": ".py",
   "mimetype": "text/x-python",
   "name": "python",
   "nbconvert_exporter": "python",
   "pygments_lexer": "ipython3",
   "version": "3.9.0"
  }
 },
 "nbformat": 4,
 "nbformat_minor": 1
}
